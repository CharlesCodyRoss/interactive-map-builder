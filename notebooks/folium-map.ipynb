{
 "cells": [
  {
   "cell_type": "markdown",
   "metadata": {},
   "source": [
    "## Test Folium Interactive Map Builder"
   ]
  },
  {
   "cell_type": "code",
   "execution_count": 1,
   "metadata": {},
   "outputs": [],
   "source": [
    "import folium\n",
    "import geocoder\n",
    "from geopy.geocoders import Nominatim\n",
    "geolocator = Nominatim(user_agent=\"geoapiExercises\")\n",
    "\n",
    "from folium_functions.location_latlng import location_search\n",
    "from folium_functions.location_latlng import my_location"
   ]
  },
  {
   "cell_type": "markdown",
   "metadata": {},
   "source": [
    "### Build Functions to Find Location, Used to Center Map"
   ]
  },
  {
   "cell_type": "code",
   "execution_count": 92,
   "metadata": {},
   "outputs": [
    {
     "data": {
      "text/plain": [
       "'Deal, England, United Kingdom'"
      ]
     },
     "execution_count": 92,
     "metadata": {},
     "output_type": "execute_result"
    }
   ],
   "source": [
    "#Find Current Location Based on Device Location\n",
    "g = geocoder.ip('me')\n",
    "\n",
    "lat, lng = g.latlng\n",
    "\n",
    "coord = str(lat) + \",\" + str(lng)\n",
    "\n",
    "\n",
    "#Print Current Location Name\n",
    "location = geolocator.reverse(coord)\n",
    "\n",
    "address = location.raw['address']\n",
    "\n",
    "try:\n",
    "    city = address['city']\n",
    "except:\n",
    "    city = address['town']\n",
    "\n",
    "state = address['state']\n",
    "\n",
    "country = address['country']\n",
    "\n",
    "f\"{city}, {state}, {country}\""
   ]
  },
  {
   "cell_type": "markdown",
   "metadata": {},
   "source": [
    "#### Create a Find Me Location Function"
   ]
  },
  {
   "cell_type": "code",
   "execution_count": 94,
   "metadata": {},
   "outputs": [],
   "source": [
    "def my_location():\n",
    "    g = geocoder.ip('me')\n",
    "\n",
    "    lat, lng = g.latlng\n",
    "\n",
    "    return [lat, lng]"
   ]
  },
  {
   "cell_type": "code",
   "execution_count": 95,
   "metadata": {},
   "outputs": [
    {
     "data": {
      "text/plain": [
       "[51.2232, 1.4043]"
      ]
     },
     "execution_count": 95,
     "metadata": {},
     "output_type": "execute_result"
    }
   ],
   "source": [
    "my_location()"
   ]
  },
  {
   "cell_type": "code",
   "execution_count": 52,
   "metadata": {},
   "outputs": [
    {
     "ename": "KeyError",
     "evalue": "'city'",
     "output_type": "error",
     "traceback": [
      "\u001b[0;31m---------------------------------------------------------------------------\u001b[0m",
      "\u001b[0;31mKeyError\u001b[0m                                  Traceback (most recent call last)",
      "Cell \u001b[0;32mIn [52], line 14\u001b[0m\n\u001b[1;32m     10\u001b[0m location \u001b[38;5;241m=\u001b[39m geolocator\u001b[38;5;241m.\u001b[39mreverse(coord)\n\u001b[1;32m     12\u001b[0m address \u001b[38;5;241m=\u001b[39m location\u001b[38;5;241m.\u001b[39mraw[\u001b[38;5;124m'\u001b[39m\u001b[38;5;124maddress\u001b[39m\u001b[38;5;124m'\u001b[39m]\n\u001b[0;32m---> 14\u001b[0m city \u001b[38;5;241m=\u001b[39m \u001b[43maddress\u001b[49m\u001b[43m[\u001b[49m\u001b[38;5;124;43m'\u001b[39;49m\u001b[38;5;124;43mcity\u001b[39;49m\u001b[38;5;124;43m'\u001b[39;49m\u001b[43m]\u001b[49m\n\u001b[1;32m     16\u001b[0m state \u001b[38;5;241m=\u001b[39m address[\u001b[38;5;124m'\u001b[39m\u001b[38;5;124mstate\u001b[39m\u001b[38;5;124m'\u001b[39m]\n\u001b[1;32m     18\u001b[0m country \u001b[38;5;241m=\u001b[39m address[\u001b[38;5;124m'\u001b[39m\u001b[38;5;124mcountry\u001b[39m\u001b[38;5;124m'\u001b[39m]\n",
      "\u001b[0;31mKeyError\u001b[0m: 'city'"
     ]
    }
   ],
   "source": [
    "#Find Location Based On Entry\n",
    "locaiton_input = 'Dubai'\n",
    "\n",
    "city, latlng = geolocator.geocode(locaiton_input)\n",
    "\n",
    "coord = str(latlng[0]) + \",\" + str(latlng[1])\n",
    "\n",
    "\n",
    "#Print Current Location Name\n",
    "location = geolocator.reverse(coord)\n",
    "\n",
    "address = location.raw['address']\n",
    "\n",
    "city = address['city']\n",
    "\n",
    "state = address['state']\n",
    "\n",
    "country = address['country']\n",
    "\n",
    "f\"{city}, {state}, {country}\""
   ]
  },
  {
   "cell_type": "markdown",
   "metadata": {},
   "source": [
    "#### Enter Location Functions"
   ]
  },
  {
   "cell_type": "code",
   "execution_count": 76,
   "metadata": {},
   "outputs": [],
   "source": [
    "def location_search():\n",
    "    \n",
    "    location = input()\n",
    "    \n",
    "    try:\n",
    "        city, latlng = geolocator.geocode(location)\n",
    "        \n",
    "        lat = latlng[0]\n",
    "        lng = latlng[1]\n",
    "        \n",
    "        return [lat, lng]\n",
    "        \n",
    "        \n",
    "    except:\n",
    "        \n",
    "        \"\"\"\n",
    "        Location Not Found!\n",
    "        \n",
    "        Please Try Entering Your Location Information Again\n",
    "        \n",
    "        \"\"\"\n",
    "    "
   ]
  },
  {
   "cell_type": "markdown",
   "metadata": {},
   "source": [
    "### Build Functions to Create and Initialize Map"
   ]
  },
  {
   "cell_type": "code",
   "execution_count": 2,
   "metadata": {},
   "outputs": [],
   "source": [
    "current_location = my_location()"
   ]
  },
  {
   "cell_type": "markdown",
   "metadata": {},
   "source": [
    "#### Create Function That Creates and Displays Map"
   ]
  },
  {
   "cell_type": "code",
   "execution_count": 25,
   "metadata": {},
   "outputs": [],
   "source": [
    "def create_folium_map(address = \"my-address\", tiles = \"OpenStreetMap\", zoom_start = 10, zoom_conrtol = True, scrollWheelZoom=True, width = \"100%\", height = \"100%\", position = \"relative\"):\n",
    "    \"\"\"\n",
    "    Creates an Initial Simple Folium Map and Zooms to Location, the map will display a pin based on the latitutde, longitude\n",
    "    of a defined location.  A latitude and longitude must be passed in to the function for the map to work.  If latitude and\n",
    "    longitude not passed in, the function will exit and ask you to enter location.\n",
    "    \n",
    "    Options for \"address\":\n",
    "        * my-address (current device location)\n",
    "        * search-address (search for an adress by city and state)\n",
    "    \"\"\"\n",
    "    \n",
    "    #Find the Latitude and Longitude for the map to center on\n",
    "    if address == \"my-address\":\n",
    "        location = my_location()\n",
    "        \n",
    "    if address == 'search-address':\n",
    "        location = location_search()\n",
    "    \n",
    "    \n",
    "    #Initialize the Map\n",
    "    my_map = folium.Map(\n",
    "                    location=location,\n",
    "                    tiles=tiles, \n",
    "                    zoom_start=zoom_start, \n",
    "                    zoom_control= True,  \n",
    "                    scrollWheelZoom=scrollWheelZoom,\n",
    "                    width=width, \n",
    "                    height=height,\n",
    "                    position = position)\n",
    "    \n",
    "    \n",
    "    #Add the Pin to the Map\n",
    "    folium.Marker(\n",
    "    location=location).add_to(my_map)\n",
    "    \n",
    "    return my_map"
   ]
  },
  {
   "cell_type": "code",
   "execution_count": 24,
   "metadata": {},
   "outputs": [
    {
     "ename": "ValueError",
     "evalue": "Marker location must be assigned when added directly to map.",
     "output_type": "error",
     "traceback": [
      "\u001b[0;31m---------------------------------------------------------------------------\u001b[0m",
      "\u001b[0;31mValueError\u001b[0m                                Traceback (most recent call last)",
      "File \u001b[0;32m~/.pyenv/versions/3.8.12/envs/interactive-map-env/lib/python3.8/site-packages/IPython/core/formatters.py:343\u001b[0m, in \u001b[0;36mBaseFormatter.__call__\u001b[0;34m(self, obj)\u001b[0m\n\u001b[1;32m    341\u001b[0m     method \u001b[39m=\u001b[39m get_real_method(obj, \u001b[39mself\u001b[39m\u001b[39m.\u001b[39mprint_method)\n\u001b[1;32m    342\u001b[0m     \u001b[39mif\u001b[39;00m method \u001b[39mis\u001b[39;00m \u001b[39mnot\u001b[39;00m \u001b[39mNone\u001b[39;00m:\n\u001b[0;32m--> 343\u001b[0m         \u001b[39mreturn\u001b[39;00m method()\n\u001b[1;32m    344\u001b[0m     \u001b[39mreturn\u001b[39;00m \u001b[39mNone\u001b[39;00m\n\u001b[1;32m    345\u001b[0m \u001b[39melse\u001b[39;00m:\n",
      "File \u001b[0;32m~/.pyenv/versions/3.8.12/envs/interactive-map-env/lib/python3.8/site-packages/folium/folium.py:299\u001b[0m, in \u001b[0;36mMap._repr_html_\u001b[0;34m(self, **kwargs)\u001b[0m\n\u001b[1;32m    297\u001b[0m     \u001b[39mself\u001b[39m\u001b[39m.\u001b[39m_parent \u001b[39m=\u001b[39m \u001b[39mNone\u001b[39;00m\n\u001b[1;32m    298\u001b[0m \u001b[39melse\u001b[39;00m:\n\u001b[0;32m--> 299\u001b[0m     out \u001b[39m=\u001b[39m \u001b[39mself\u001b[39;49m\u001b[39m.\u001b[39;49m_parent\u001b[39m.\u001b[39;49m_repr_html_(\u001b[39m*\u001b[39;49m\u001b[39m*\u001b[39;49mkwargs)\n\u001b[1;32m    300\u001b[0m \u001b[39mreturn\u001b[39;00m out\n",
      "File \u001b[0;32m~/.pyenv/versions/3.8.12/envs/interactive-map-env/lib/python3.8/site-packages/branca/element.py:326\u001b[0m, in \u001b[0;36mFigure._repr_html_\u001b[0;34m(self, **kwargs)\u001b[0m\n\u001b[1;32m    324\u001b[0m \u001b[39mdef\u001b[39;00m \u001b[39m_repr_html_\u001b[39m(\u001b[39mself\u001b[39m, \u001b[39m*\u001b[39m\u001b[39m*\u001b[39mkwargs):\n\u001b[1;32m    325\u001b[0m     \u001b[39m\"\"\"Displays the Figure in a Jupyter notebook.\"\"\"\u001b[39;00m\n\u001b[0;32m--> 326\u001b[0m     html \u001b[39m=\u001b[39m escape(\u001b[39mself\u001b[39;49m\u001b[39m.\u001b[39;49mrender(\u001b[39m*\u001b[39;49m\u001b[39m*\u001b[39;49mkwargs))\n\u001b[1;32m    327\u001b[0m     \u001b[39mif\u001b[39;00m \u001b[39mself\u001b[39m\u001b[39m.\u001b[39mheight \u001b[39mis\u001b[39;00m \u001b[39mNone\u001b[39;00m:\n\u001b[1;32m    328\u001b[0m         iframe \u001b[39m=\u001b[39m (\n\u001b[1;32m    329\u001b[0m             \u001b[39m'\u001b[39m\u001b[39m<div style=\u001b[39m\u001b[39m\"\u001b[39m\u001b[39mwidth:\u001b[39m\u001b[39m{width}\u001b[39;00m\u001b[39m;\u001b[39m\u001b[39m\"\u001b[39m\u001b[39m>\u001b[39m\u001b[39m'\u001b[39m\n\u001b[1;32m    330\u001b[0m             \u001b[39m'\u001b[39m\u001b[39m<div style=\u001b[39m\u001b[39m\"\u001b[39m\u001b[39mposition:relative;width:100\u001b[39m\u001b[39m%\u001b[39m\u001b[39m;height:0;padding-bottom:\u001b[39m\u001b[39m{ratio}\u001b[39;00m\u001b[39m;\u001b[39m\u001b[39m\"\u001b[39m\u001b[39m>\u001b[39m\u001b[39m'\u001b[39m  \u001b[39m# noqa\u001b[39;00m\n\u001b[0;32m   (...)\u001b[0m\n\u001b[1;32m    336\u001b[0m             \u001b[39m'\u001b[39m\u001b[39m</div></div>\u001b[39m\u001b[39m'\u001b[39m\n\u001b[1;32m    337\u001b[0m         )\u001b[39m.\u001b[39mformat(html\u001b[39m=\u001b[39mhtml, width\u001b[39m=\u001b[39m\u001b[39mself\u001b[39m\u001b[39m.\u001b[39mwidth, ratio\u001b[39m=\u001b[39m\u001b[39mself\u001b[39m\u001b[39m.\u001b[39mratio)\n",
      "File \u001b[0;32m~/.pyenv/versions/3.8.12/envs/interactive-map-env/lib/python3.8/site-packages/branca/element.py:321\u001b[0m, in \u001b[0;36mFigure.render\u001b[0;34m(self, **kwargs)\u001b[0m\n\u001b[1;32m    319\u001b[0m \u001b[39m\"\"\"Renders the HTML representation of the element.\"\"\"\u001b[39;00m\n\u001b[1;32m    320\u001b[0m \u001b[39mfor\u001b[39;00m name, child \u001b[39min\u001b[39;00m \u001b[39mself\u001b[39m\u001b[39m.\u001b[39m_children\u001b[39m.\u001b[39mitems():\n\u001b[0;32m--> 321\u001b[0m     child\u001b[39m.\u001b[39;49mrender(\u001b[39m*\u001b[39;49m\u001b[39m*\u001b[39;49mkwargs)\n\u001b[1;32m    322\u001b[0m \u001b[39mreturn\u001b[39;00m \u001b[39mself\u001b[39m\u001b[39m.\u001b[39m_template\u001b[39m.\u001b[39mrender(this\u001b[39m=\u001b[39m\u001b[39mself\u001b[39m, kwargs\u001b[39m=\u001b[39mkwargs)\n",
      "File \u001b[0;32m~/.pyenv/versions/3.8.12/envs/interactive-map-env/lib/python3.8/site-packages/folium/folium.py:368\u001b[0m, in \u001b[0;36mMap.render\u001b[0;34m(self, **kwargs)\u001b[0m\n\u001b[1;32m    349\u001b[0m figure\u001b[39m.\u001b[39mheader\u001b[39m.\u001b[39madd_child(Element(\n\u001b[1;32m    350\u001b[0m     \u001b[39m'\u001b[39m\u001b[39m<style>html, body \u001b[39m\u001b[39m{\u001b[39m\u001b[39m'\u001b[39m\n\u001b[1;32m    351\u001b[0m     \u001b[39m'\u001b[39m\u001b[39mwidth: 100\u001b[39m\u001b[39m%\u001b[39m\u001b[39m;\u001b[39m\u001b[39m'\u001b[39m\n\u001b[0;32m   (...)\u001b[0m\n\u001b[1;32m    355\u001b[0m     \u001b[39m'\u001b[39m\u001b[39m}\u001b[39m\u001b[39m'\u001b[39m\n\u001b[1;32m    356\u001b[0m     \u001b[39m'\u001b[39m\u001b[39m</style>\u001b[39m\u001b[39m'\u001b[39m), name\u001b[39m=\u001b[39m\u001b[39m'\u001b[39m\u001b[39mcss_style\u001b[39m\u001b[39m'\u001b[39m)\n\u001b[1;32m    358\u001b[0m figure\u001b[39m.\u001b[39mheader\u001b[39m.\u001b[39madd_child(Element(\n\u001b[1;32m    359\u001b[0m     \u001b[39m'\u001b[39m\u001b[39m<style>#map \u001b[39m\u001b[39m{\u001b[39m\u001b[39m'\u001b[39m\n\u001b[1;32m    360\u001b[0m     \u001b[39m'\u001b[39m\u001b[39mposition:absolute;\u001b[39m\u001b[39m'\u001b[39m\n\u001b[0;32m   (...)\u001b[0m\n\u001b[1;32m    365\u001b[0m     \u001b[39m'\u001b[39m\u001b[39m}\u001b[39m\u001b[39m'\u001b[39m\n\u001b[1;32m    366\u001b[0m     \u001b[39m'\u001b[39m\u001b[39m</style>\u001b[39m\u001b[39m'\u001b[39m), name\u001b[39m=\u001b[39m\u001b[39m'\u001b[39m\u001b[39mmap_style\u001b[39m\u001b[39m'\u001b[39m)\n\u001b[0;32m--> 368\u001b[0m \u001b[39msuper\u001b[39;49m(Map, \u001b[39mself\u001b[39;49m)\u001b[39m.\u001b[39;49mrender(\u001b[39m*\u001b[39;49m\u001b[39m*\u001b[39;49mkwargs)\n",
      "File \u001b[0;32m~/.pyenv/versions/3.8.12/envs/interactive-map-env/lib/python3.8/site-packages/folium/elements.py:21\u001b[0m, in \u001b[0;36mJSCSSMixin.render\u001b[0;34m(self, **kwargs)\u001b[0m\n\u001b[1;32m     18\u001b[0m \u001b[39mfor\u001b[39;00m name, url \u001b[39min\u001b[39;00m \u001b[39mself\u001b[39m\u001b[39m.\u001b[39mdefault_css:\n\u001b[1;32m     19\u001b[0m     figure\u001b[39m.\u001b[39mheader\u001b[39m.\u001b[39madd_child(CssLink(url), name\u001b[39m=\u001b[39mname)\n\u001b[0;32m---> 21\u001b[0m \u001b[39msuper\u001b[39;49m()\u001b[39m.\u001b[39;49mrender(\u001b[39m*\u001b[39;49m\u001b[39m*\u001b[39;49mkwargs)\n",
      "File \u001b[0;32m~/.pyenv/versions/3.8.12/envs/interactive-map-env/lib/python3.8/site-packages/branca/element.py:628\u001b[0m, in \u001b[0;36mMacroElement.render\u001b[0;34m(self, **kwargs)\u001b[0m\n\u001b[1;32m    624\u001b[0m     figure\u001b[39m.\u001b[39mscript\u001b[39m.\u001b[39madd_child(Element(script(\u001b[39mself\u001b[39m, kwargs)),\n\u001b[1;32m    625\u001b[0m                             name\u001b[39m=\u001b[39m\u001b[39mself\u001b[39m\u001b[39m.\u001b[39mget_name())\n\u001b[1;32m    627\u001b[0m \u001b[39mfor\u001b[39;00m name, element \u001b[39min\u001b[39;00m \u001b[39mself\u001b[39m\u001b[39m.\u001b[39m_children\u001b[39m.\u001b[39mitems():\n\u001b[0;32m--> 628\u001b[0m     element\u001b[39m.\u001b[39;49mrender(\u001b[39m*\u001b[39;49m\u001b[39m*\u001b[39;49mkwargs)\n",
      "File \u001b[0;32m~/.pyenv/versions/3.8.12/envs/interactive-map-env/lib/python3.8/site-packages/folium/map.py:302\u001b[0m, in \u001b[0;36mMarker.render\u001b[0;34m(self)\u001b[0m\n\u001b[1;32m    300\u001b[0m \u001b[39mdef\u001b[39;00m \u001b[39mrender\u001b[39m(\u001b[39mself\u001b[39m):\n\u001b[1;32m    301\u001b[0m     \u001b[39mif\u001b[39;00m \u001b[39mself\u001b[39m\u001b[39m.\u001b[39mlocation \u001b[39mis\u001b[39;00m \u001b[39mNone\u001b[39;00m:\n\u001b[0;32m--> 302\u001b[0m         \u001b[39mraise\u001b[39;00m \u001b[39mValueError\u001b[39;00m(\u001b[39m\"\u001b[39m\u001b[39m{}\u001b[39;00m\u001b[39m location must be assigned when added directly to map.\u001b[39m\u001b[39m\"\u001b[39m\u001b[39m.\u001b[39mformat(\u001b[39mself\u001b[39m\u001b[39m.\u001b[39m_name))\n\u001b[1;32m    303\u001b[0m     \u001b[39msuper\u001b[39m(Marker, \u001b[39mself\u001b[39m)\u001b[39m.\u001b[39mrender()\n",
      "\u001b[0;31mValueError\u001b[0m: Marker location must be assigned when added directly to map."
     ]
    },
    {
     "data": {
      "text/plain": [
       "<folium.folium.Map at 0x146d4bd90>"
      ]
     },
     "execution_count": 24,
     "metadata": {},
     "output_type": "execute_result"
    }
   ],
   "source": [
    "create_folium_map(address = \"search-address\")"
   ]
  },
  {
   "cell_type": "code",
   "execution_count": 7,
   "metadata": {},
   "outputs": [
    {
     "data": {
      "text/html": [
       "<div style=\"width:100%;\"><div style=\"position:relative;width:100%;height:0;padding-bottom:60%;\"><span style=\"color:#565656\">Make this Notebook Trusted to load map: File -> Trust Notebook</span><iframe srcdoc=\"&lt;!DOCTYPE html&gt;\n",
       "&lt;head&gt;    \n",
       "    &lt;meta http-equiv=&quot;content-type&quot; content=&quot;text/html; charset=UTF-8&quot; /&gt;\n",
       "    \n",
       "        &lt;script&gt;\n",
       "            L_NO_TOUCH = false;\n",
       "            L_DISABLE_3D = false;\n",
       "        &lt;/script&gt;\n",
       "    \n",
       "    &lt;style&gt;html, body {width: 100%;height: 100%;margin: 0;padding: 0;}&lt;/style&gt;\n",
       "    &lt;style&gt;#map {position:absolute;top:0;bottom:0;right:0;left:0;}&lt;/style&gt;\n",
       "    &lt;script src=&quot;https://cdn.jsdelivr.net/npm/leaflet@1.6.0/dist/leaflet.js&quot;&gt;&lt;/script&gt;\n",
       "    &lt;script src=&quot;https://code.jquery.com/jquery-1.12.4.min.js&quot;&gt;&lt;/script&gt;\n",
       "    &lt;script src=&quot;https://maxcdn.bootstrapcdn.com/bootstrap/3.2.0/js/bootstrap.min.js&quot;&gt;&lt;/script&gt;\n",
       "    &lt;script src=&quot;https://cdnjs.cloudflare.com/ajax/libs/Leaflet.awesome-markers/2.0.2/leaflet.awesome-markers.js&quot;&gt;&lt;/script&gt;\n",
       "    &lt;link rel=&quot;stylesheet&quot; href=&quot;https://cdn.jsdelivr.net/npm/leaflet@1.6.0/dist/leaflet.css&quot;/&gt;\n",
       "    &lt;link rel=&quot;stylesheet&quot; href=&quot;https://maxcdn.bootstrapcdn.com/bootstrap/3.2.0/css/bootstrap.min.css&quot;/&gt;\n",
       "    &lt;link rel=&quot;stylesheet&quot; href=&quot;https://maxcdn.bootstrapcdn.com/bootstrap/3.2.0/css/bootstrap-theme.min.css&quot;/&gt;\n",
       "    &lt;link rel=&quot;stylesheet&quot; href=&quot;https://maxcdn.bootstrapcdn.com/font-awesome/4.6.3/css/font-awesome.min.css&quot;/&gt;\n",
       "    &lt;link rel=&quot;stylesheet&quot; href=&quot;https://cdnjs.cloudflare.com/ajax/libs/Leaflet.awesome-markers/2.0.2/leaflet.awesome-markers.css&quot;/&gt;\n",
       "    &lt;link rel=&quot;stylesheet&quot; href=&quot;https://cdn.jsdelivr.net/gh/python-visualization/folium/folium/templates/leaflet.awesome.rotate.min.css&quot;/&gt;\n",
       "    \n",
       "            &lt;meta name=&quot;viewport&quot; content=&quot;width=device-width,\n",
       "                initial-scale=1.0, maximum-scale=1.0, user-scalable=no&quot; /&gt;\n",
       "            &lt;style&gt;\n",
       "                #map_01e5745dc783138ed22536aefd3bdd8e {\n",
       "                    position: relative;\n",
       "                    width: 100.0%;\n",
       "                    height: 100.0%;\n",
       "                    left: 0.0%;\n",
       "                    top: 0.0%;\n",
       "                }\n",
       "            &lt;/style&gt;\n",
       "        \n",
       "&lt;/head&gt;\n",
       "&lt;body&gt;    \n",
       "    \n",
       "            &lt;div class=&quot;folium-map&quot; id=&quot;map_01e5745dc783138ed22536aefd3bdd8e&quot; &gt;&lt;/div&gt;\n",
       "        \n",
       "&lt;/body&gt;\n",
       "&lt;script&gt;    \n",
       "    \n",
       "            var map_01e5745dc783138ed22536aefd3bdd8e = L.map(\n",
       "                &quot;map_01e5745dc783138ed22536aefd3bdd8e&quot;,\n",
       "                {\n",
       "                    center: [51.2232, 1.4043],\n",
       "                    crs: L.CRS.EPSG3857,\n",
       "                    zoom: 15,\n",
       "                    zoomControl: true,\n",
       "                    preferCanvas: false,\n",
       "                    scrollWheelZoom: true,\n",
       "                }\n",
       "            );\n",
       "\n",
       "            \n",
       "\n",
       "        \n",
       "    \n",
       "            var tile_layer_861e5baef60c852b3de7a6f9c78481a0 = L.tileLayer(\n",
       "                &quot;https://{s}.tile.openstreetmap.org/{z}/{x}/{y}.png&quot;,\n",
       "                {&quot;attribution&quot;: &quot;Data by \\u0026copy; \\u003ca href=\\&quot;http://openstreetmap.org\\&quot;\\u003eOpenStreetMap\\u003c/a\\u003e, under \\u003ca href=\\&quot;http://www.openstreetmap.org/copyright\\&quot;\\u003eODbL\\u003c/a\\u003e.&quot;, &quot;detectRetina&quot;: false, &quot;maxNativeZoom&quot;: 18, &quot;maxZoom&quot;: 18, &quot;minZoom&quot;: 0, &quot;noWrap&quot;: false, &quot;opacity&quot;: 1, &quot;subdomains&quot;: &quot;abc&quot;, &quot;tms&quot;: false}\n",
       "            ).addTo(map_01e5745dc783138ed22536aefd3bdd8e);\n",
       "        \n",
       "    \n",
       "            var marker_b99017d8be9276abcf1afbdae2fadced = L.marker(\n",
       "                [51.2232, 1.4043],\n",
       "                {}\n",
       "            ).addTo(map_01e5745dc783138ed22536aefd3bdd8e);\n",
       "        \n",
       "&lt;/script&gt;\" style=\"position:absolute;width:100%;height:100%;left:0;top:0;border:none !important;\" allowfullscreen webkitallowfullscreen mozallowfullscreen></iframe></div></div>"
      ],
      "text/plain": [
       "<folium.folium.Map at 0x146280850>"
      ]
     },
     "execution_count": 7,
     "metadata": {},
     "output_type": "execute_result"
    }
   ],
   "source": [
    "my_map = folium.Map(location=current_location,\n",
    "                    tiles=\"OpenStreetMap\", \n",
    "                    zoom_start=15, \n",
    "                    zoom_control= True,  \n",
    "                    scrollWheelZoom=True,\n",
    "                    width='100%', height='100%',\n",
    "                    position = \"relative\")\n",
    "\n",
    "\n",
    "folium.Marker(\n",
    "    location=current_location,  \n",
    ").add_to(my_map)\n",
    "\n",
    "my_map"
   ]
  },
  {
   "cell_type": "markdown",
   "metadata": {},
   "source": [
    "## Test Map Builder"
   ]
  }
 ],
 "metadata": {
  "kernelspec": {
   "display_name": "Python 3.8.12 64-bit ('interactive-map-env')",
   "language": "python",
   "name": "python3"
  },
  "language_info": {
   "codemirror_mode": {
    "name": "ipython",
    "version": 3
   },
   "file_extension": ".py",
   "mimetype": "text/x-python",
   "name": "python",
   "nbconvert_exporter": "python",
   "pygments_lexer": "ipython3",
   "version": "3.8.12"
  },
  "orig_nbformat": 4,
  "vscode": {
   "interpreter": {
    "hash": "103dada1383a74e068e7a634d173cdb041fbfbc39c66b39558c37fe02a549e35"
   }
  }
 },
 "nbformat": 4,
 "nbformat_minor": 2
}
